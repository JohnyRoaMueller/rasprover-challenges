{
 "cells": [
  {
   "cell_type": "code",
   "execution_count": 3,
   "id": "25df054b-4947-4a27-8873-660193729586",
   "metadata": {},
   "outputs": [
    {
     "name": "stdout",
     "output_type": "stream",
     "text": [
      "/dev/ttyACM* connected succeed\n"
     ]
    },
    {
     "ename": "KeyboardInterrupt",
     "evalue": "",
     "output_type": "error",
     "traceback": [
      "\u001b[0;31m---------------------------------------------------------------------------\u001b[0m",
      "\u001b[0;31mKeyboardInterrupt\u001b[0m                         Traceback (most recent call last)",
      "Cell \u001b[0;32mIn[3], line 28\u001b[0m\n\u001b[1;32m     26\u001b[0m time\u001b[38;5;241m.\u001b[39msleep(\u001b[38;5;241m2\u001b[39m)\n\u001b[1;32m     27\u001b[0m base\u001b[38;5;241m.\u001b[39mbase_speed_ctrl(\u001b[38;5;241m0.0\u001b[39m, \u001b[38;5;241m0.0\u001b[39m)  \n\u001b[0;32m---> 28\u001b[0m \u001b[43mtime\u001b[49m\u001b[38;5;241;43m.\u001b[39;49m\u001b[43msleep\u001b[49m\u001b[43m(\u001b[49m\u001b[38;5;241;43m2\u001b[39;49m\u001b[43m)\u001b[49m\n",
      "\u001b[0;31mKeyboardInterrupt\u001b[0m: "
     ]
    }
   ],
   "source": [
    "from base_ctrl import BaseController\n",
    "import time\n",
    "\n",
    "# Function for Detecting Raspberry Pi\n",
    "def is_raspberry_pi5():\n",
    "    with open('/proc/cpuinfo', 'r') as file:\n",
    "        for line in file:\n",
    "            if 'Model' in line:\n",
    "                if 'Raspberry Pi 5' in line:\n",
    "                    return True\n",
    "                else:\n",
    "                    return False\n",
    "\n",
    "# Determine the GPIO Serial Device Name Based on the Raspberry Pi Model\n",
    "if is_raspberry_pi5():\n",
    "    base = BaseController('/dev/ttyAMA0', 115200)\n",
    "else:\n",
    "    base = BaseController('/dev/serial0', 115200)\n",
    "\n",
    "while True:\n",
    "    base.base_speed_ctrl(0.2, 0.4)   \n",
    "    time.sleep(2)\n",
    "    base.base_speed_ctrl(0.0, 0.0)   \n",
    "    time.sleep(0.5)\n",
    "    base.base_speed_ctrl(0.4, 0.2)\n",
    "    time.sleep(2)\n",
    "    base.base_speed_ctrl(0.0, 0.0)  \n",
    "    time.sleep(0.5)"
   ]
  },
  {
   "cell_type": "code",
   "execution_count": null,
   "id": "1a8db5cf-8516-4b84-bfaf-72c7ea3f03ba",
   "metadata": {},
   "outputs": [],
   "source": []
  }
 ],
 "metadata": {
  "kernelspec": {
   "display_name": "Python 3 (ipykernel)",
   "language": "python",
   "name": "python3"
  },
  "language_info": {
   "codemirror_mode": {
    "name": "ipython",
    "version": 3
   },
   "file_extension": ".py",
   "mimetype": "text/x-python",
   "name": "python",
   "nbconvert_exporter": "python",
   "pygments_lexer": "ipython3",
   "version": "3.11.2"
  }
 },
 "nbformat": 4,
 "nbformat_minor": 5
}
